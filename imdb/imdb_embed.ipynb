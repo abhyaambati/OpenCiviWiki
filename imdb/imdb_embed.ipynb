{
  "nbformat": 4,
  "nbformat_minor": 0,
  "metadata": {
    "accelerator": "GPU",
    "colab": {
      "name": "embedding2.ipynb",
      "provenance": [],
      "include_colab_link": true
    },
    "kernelspec": {
      "display_name": "Python 3",
      "language": "python",
      "name": "python3"
    },
    "language_info": {
      "codemirror_mode": {
        "name": "ipython",
        "version": 3
      },
      "file_extension": ".py",
      "mimetype": "text/x-python",
      "name": "python",
      "nbconvert_exporter": "python",
      "pygments_lexer": "ipython3",
      "version": "3.6.8"
    }
  },
  "cells": [
    {
      "cell_type": "markdown",
      "metadata": {
        "id": "view-in-github",
        "colab_type": "text"
      },
      "source": [
        "<a href=\"https://colab.research.google.com/github/abhyaambati/OpenCiviWiki/blob/master/imdb/imdb_embed.ipynb\" target=\"_parent\"><img src=\"https://colab.research.google.com/assets/colab-badge.svg\" alt=\"Open In Colab\"/></a>"
      ]
    },
    {
      "cell_type": "markdown",
      "metadata": {
        "id": "SovyWio1MqHe"
      },
      "source": [
        "## The IMDB dataset\n",
        "\n",
        "We will work with the IMDB dataset, which contains 25,000 movie reviews from [IMDB](https://www.imdb.com/). Each review is labeled as positive or negative from the rating provided by users together with their reviews.\n",
        "\n",
        "The dataset is distributed with keras. Before loading it in memory, we initialize our tools:"
      ]
    },
    {
      "cell_type": "code",
      "metadata": {
        "id": "sWJ5ANQ_MqHk"
      },
      "source": [
        "# get reproducible results\n",
        "from numpy.random import seed\n",
        "seed(0xdeadbeef)\n",
        "import tensorflow as tf\n",
        "tf.random.set_seed(0xdeadbeef)"
      ],
      "execution_count": 1,
      "outputs": []
    },
    {
      "cell_type": "code",
      "metadata": {
        "colab": {
          "base_uri": "https://localhost:8080/"
        },
        "id": "wUlYzfZhMqHl",
        "outputId": "d49f1a1d-347c-46be-d332-1c22153870fc"
      },
      "source": [
        "from tensorflow import keras\n",
        "imdb = keras.datasets.imdb\n",
        "num_words = 20000\n",
        "(train_data, train_labels), (test_data, test_labels) = imdb.load_data(seed=1, num_words=num_words)"
      ],
      "execution_count": 2,
      "outputs": [
        {
          "output_type": "stream",
          "name": "stdout",
          "text": [
            "Downloading data from https://storage.googleapis.com/tensorflow/tf-keras-datasets/imdb.npz\n",
            "\u001b[1m17464789/17464789\u001b[0m \u001b[32m━━━━━━━━━━━━━━━━━━━━\u001b[0m\u001b[37m\u001b[0m \u001b[1m0s\u001b[0m 0us/step\n"
          ]
        }
      ]
    },
    {
      "cell_type": "markdown",
      "metadata": {
        "id": "E9-n7EiRO8qP"
      },
      "source": [
        "At the moment, `imdb.load_data` triggers deprecation warnings that can be ignored."
      ]
    },
    {
      "cell_type": "markdown",
      "metadata": {
        "id": "ef4L9yEUMqHo"
      },
      "source": [
        "The first review looks like this:"
      ]
    },
    {
      "cell_type": "code",
      "metadata": {
        "colab": {
          "base_uri": "https://localhost:8080/"
        },
        "id": "YeSdNjLbMqHo",
        "outputId": "c3f0cb10-fe8d-470e-c993-2240eb671995"
      },
      "source": [
        "print(train_data[0])\n",
        "print('label:', train_labels[0])"
      ],
      "execution_count": 3,
      "outputs": [
        {
          "output_type": "stream",
          "name": "stdout",
          "text": [
            "[1, 13, 28, 1039, 7, 14, 23, 1856, 13, 104, 36, 4, 699, 8060, 144, 297, 14, 175, 291, 18, 4, 375, 1784, 153, 38, 15, 75, 92, 859, 51, 16, 5, 15, 75, 377, 24, 8, 81, 4, 172, 2497, 174, 40, 1489, 49, 84, 11, 4, 2030, 3039, 121, 36, 92, 4881, 14, 20, 2, 9, 40, 6, 2, 621, 18, 148, 37, 191, 1941, 42, 511, 14, 20, 9, 17, 76, 253, 17, 269, 8, 3336, 4, 2, 8, 1278, 6, 543, 2647, 10, 10, 308, 3102, 2, 47, 43, 188, 46, 7, 1172, 5, 240, 2854, 145, 8, 4, 154, 3243, 11, 4819, 58, 18, 35, 32, 8, 327, 823, 7, 7350, 7, 265, 308, 1828, 145, 1646, 4, 154, 890, 5, 9, 14412, 34, 362, 2515, 154, 1914, 5, 27, 15227, 2, 17, 36, 837, 5, 1941, 32, 367, 4, 96, 10, 10, 13, 62, 386, 14, 48, 13, 16, 3178, 42, 48, 11, 882, 294, 16, 3412, 2, 4360, 2, 34, 6, 1042, 18, 2, 345, 96, 14, 9, 6, 862, 526, 3757, 917, 5, 60, 1055, 13, 115, 197, 474, 1829, 15, 2006, 7, 6791, 113, 19, 4, 2, 261, 13, 104, 4, 1653, 173, 7, 4, 65, 143, 4, 3801, 1366, 548, 844, 5, 4, 837, 1396, 27, 369, 459, 44, 68, 4731, 5, 181, 8, 607, 4, 6791, 39, 112, 3067, 180, 5, 11037, 56, 10, 10, 859, 7552, 10141, 4386, 100, 28, 1199, 35, 735, 18, 15, 11, 2096, 8, 14, 3644, 449, 73, 48, 25, 169, 624, 1786, 8, 462, 624, 710, 5, 289, 9800, 2942, 30, 252, 8, 3163, 86, 10, 10, 5, 591, 106, 2, 57, 381, 128, 1996, 375, 58]\n",
            "label: 0\n"
          ]
        }
      ]
    },
    {
      "cell_type": "markdown",
      "metadata": {
        "id": "rhwBKz19MqHp"
      },
      "source": [
        "We see that the text of the review has been encoded as a sequence of integers. Please refer to [part 2](https://thedatafrog.com/text-preprocessing-machine-learning-yelp/) of this tutorial series if you want to understand how such an encoding can be done in practice.\n",
        "\n",
        "Each word in the text is represented as an integer. A dictionary called the **vocabulary** links each word to a unique integer. In the example above, we see that the integer 4 is repeated many times. This integer corresponds to a very frequent word. And actually, the more frequent a word, the lower the integer.    \n",
        "\n",
        "To decode the review, we need to make use of the vocabulary:"
      ]
    },
    {
      "cell_type": "code",
      "metadata": {
        "id": "4hv1vHrnMqHp",
        "outputId": "4e0ef8d7-6ab6-4ce2-c9af-4ce70ef0e614",
        "colab": {
          "base_uri": "https://localhost:8080/"
        }
      },
      "source": [
        "# A dictionary mapping words to an integer index\n",
        "vocabulary = imdb.get_word_index()\n",
        "\n",
        "# The first indices are reserved\n",
        "vocabulary = {k:(v+3) for k,v in vocabulary.items()}\n",
        "vocabulary[\"<PAD>\"] = 0\n",
        "# See how integer 1 appears first in the review above.\n",
        "vocabulary[\"<START>\"] = 1\n",
        "vocabulary[\"<UNK>\"] = 2  # unknown\n",
        "vocabulary[\"<UNUSED>\"] = 3\n",
        "\n",
        "# reversing the vocabulary.\n",
        "# in the index, the key is an integer,\n",
        "# and the value is the corresponding word.\n",
        "index = dict([(value, key) for (key, value) in vocabulary.items()])\n",
        "\n",
        "def decode_review(text):\n",
        "    '''converts encoded text to human readable form.\n",
        "    each integer in the text is looked up in the index, and\n",
        "    replaced by the corresponding word.\n",
        "    '''\n",
        "    return ' '.join([index.get(i, '?') for i in text])\n"
      ],
      "execution_count": 4,
      "outputs": [
        {
          "output_type": "stream",
          "name": "stdout",
          "text": [
            "Downloading data from https://storage.googleapis.com/tensorflow/tf-keras-datasets/imdb_word_index.json\n",
            "\u001b[1m1641221/1641221\u001b[0m \u001b[32m━━━━━━━━━━━━━━━━━━━━\u001b[0m\u001b[37m\u001b[0m \u001b[1m0s\u001b[0m 0us/step\n"
          ]
        }
      ]
    },
    {
      "cell_type": "code",
      "metadata": {
        "colab": {
          "base_uri": "https://localhost:8080/",
          "height": 146
        },
        "id": "zFpaYn92MqHq",
        "outputId": "a2d635d0-6aa3-4cd6-f9dd-a3f73cbedcec"
      },
      "source": [
        "decode_review(train_data[0])"
      ],
      "execution_count": null,
      "outputs": [
        {
          "output_type": "execute_result",
          "data": {
            "application/vnd.google.colaboratory.intrinsic+json": {
              "type": "string"
            },
            "text/plain": [
              "\"<START> i have copy of this on vhs i think they the television networks should play this every year for the next twenty years so that we don't forget what was and that we remember not to do the same mistakes again like putting some people in the director's chair where they don't belong this movie <UNK> is like a <UNK> musical for those who can't sing or act this movie is as much fun as trying to teach the <UNK> to drive a city bus br br john hood <UNK> has just got out of prison and he's headed back to the old neighborhood in serving time for an all to nice crime of necessity of course john heads back onto the old street and is greeted by kids dogs old ladies and his peer <UNK> as they dance and sing all along the way br br i would recommend this if i was sentimental or if in truth someone was smoking <UNK> pot <UNK> by a doctor for <UNK> either way this is a poorly directed scripted acted and even produced i never thought i'd sat that satire of ghetto life with the <UNK> although i think the redeeming part of the story through the wannabe gang fight sequences and the dance numbers his friends care about their neighbors and want to save the ghetto from being torn down and cleaned up br br forget sonny spoon mario could have won an oscar for that in comparison to this rap oh well if you find yourself wanting to laugh yourself silly and three quarters embarrassed be sure to drink first br br and please watch <UNK> no stars better luck next time\""
            ]
          },
          "metadata": {
            "tags": []
          },
          "execution_count": 30
        }
      ]
    },
    {
      "cell_type": "markdown",
      "metadata": {
        "id": "V52fGMvLMqHq"
      },
      "source": [
        "We see that integer 4 indeed corresponds to a very frequent word, \"the\". Now what do we do with this dataset? We can see two issues if we are to use it as input to a neural network:\n",
        "\n",
        "* The reviews have a variable number of words, while the network has a fixed number of neurons.\n",
        "* The words are completely independent. For example, \"brilliant\" and \"awesome\" correspond to two different integers, and the neural network does not know a priori that these two adjectives have similar meaning.\n",
        "\n",
        "Let's deal with the first issue. To get a fixed length input, we can simply truncate the reviews to a fixed number of words, say 256. For reviews that have more than 256 words, we will keep only the first 256 words. For shorter reviews, we will fill the unused word slots with zeros. With keras, this is easy to do:"
      ]
    },
    {
      "cell_type": "code",
      "metadata": {
        "id": "DvVwLuqS9eYJ"
      },
      "source": [
        "train_data = keras.preprocessing.sequence.pad_sequences(train_data,\n",
        "                                                        value=vocabulary[\"<PAD>\"],\n",
        "                                                        padding='post',\n",
        "                                                        maxlen=256)\n",
        "\n",
        "test_data = keras.preprocessing.sequence.pad_sequences(test_data,\n",
        "                                                       value=vocabulary[\"<PAD>\"],\n",
        "                                                       padding='post',\n",
        "                                                       maxlen=256)"
      ],
      "execution_count": 5,
      "outputs": []
    },
    {
      "cell_type": "code",
      "metadata": {
        "colab": {
          "base_uri": "https://localhost:8080/"
        },
        "id": "G0JWXK_VMqHr",
        "outputId": "fa926bf7-8def-40dd-bc17-e3da4558e71f"
      },
      "source": [
        "train_data[1]"
      ],
      "execution_count": null,
      "outputs": [
        {
          "output_type": "execute_result",
          "data": {
            "text/plain": [
              "array([    1,   103,   450,   576,    73,  2896,     8,     4,   213,\n",
              "           7,   897,    13,    16,   576,  3521,    19,     4,    22,\n",
              "           4,    22,    16,   465,   728,     4,  2563,     4,  1460,\n",
              "           4,  3237,     5,     6,    55,   576,  1078,  2734,    10,\n",
              "          10,    13,    69,  2721,   873,     8,    67,   111,   318,\n",
              "         302,     5,    40,     6, 13892,     2,    12,  4280,    72,\n",
              "         245,    19,     4,  4211,     5,     4,     2,     7,    12,\n",
              "        1620,    13,   244,   174,  2654,   245,    19,   129,  7102,\n",
              "          19,     4,   979,     7,     4,    65,     5,   129,   459,\n",
              "           7,     4,   318,   302,    25,    80,   140,     6,   196,\n",
              "          96,    61,   464,    13,    80,   407,    30,     4,  2217,\n",
              "           7,   129,   337,  1333,    10,    10,  2127,     2,     4,\n",
              "         118,   284,  1344,    16,     4,   612,    31,  1099,    25,\n",
              "          93,  1792,  7606,   168,    40,     6,   506,  1079,     8,\n",
              "           2,    10,    10,   444,     4,   116,    65,   347,     4,\n",
              "         312,   489,  1423,     5,  1190,   302,    12,    16,   777,\n",
              "          13,    43,   657,    12,    71,  1207,    13,   244,   267,\n",
              "         930,     8,     4,     2,    19,   576,   312,  1398,     0,\n",
              "           0,     0,     0,     0,     0,     0,     0,     0,     0,\n",
              "           0,     0,     0,     0,     0,     0,     0,     0,     0,\n",
              "           0,     0,     0,     0,     0,     0,     0,     0,     0,\n",
              "           0,     0,     0,     0,     0,     0,     0,     0,     0,\n",
              "           0,     0,     0,     0,     0,     0,     0,     0,     0,\n",
              "           0,     0,     0,     0,     0,     0,     0,     0,     0,\n",
              "           0,     0,     0,     0,     0,     0,     0,     0,     0,\n",
              "           0,     0,     0,     0,     0,     0,     0,     0,     0,\n",
              "           0,     0,     0,     0,     0,     0,     0,     0,     0,\n",
              "           0,     0,     0,     0,     0,     0,     0,     0,     0,\n",
              "           0,     0,     0,     0], dtype=int32)"
            ]
          },
          "metadata": {
            "tags": []
          },
          "execution_count": 32
        }
      ]
    },
    {
      "cell_type": "markdown",
      "metadata": {
        "id": "sp1T1vc6MqHt"
      },
      "source": [
        "The first issue is solved: Our reviews are now of fixed length. The second issue is addressed below.\n",
        "\n",
        "## Embedding: Why is it Needed?\n",
        "\n",
        "In this section, we will see why a standard dense neural network is by essence unable to deal with this dataset.\n",
        "\n",
        "As we have seen in my post about [the 1-neuron network](https://thedatafrog.com/logistic-regression/), neural networks are simply a function of their inputs. In the 1-neuron network (or logistic regression), this function is\n",
        "\n",
        "$$ f( \\{ x_i \\} ) = \\sigma (z)$$\n",
        "\n",
        "where $\\sigma$ is the sigmoid function and where the weighted input $z$ of the only neuron is computed as\n",
        "\n",
        "$$z= b+ \\sum_{i} w_i x_i$$\n",
        "\n",
        "In this expression, the sum runs over all input variables $x_i$, and $b$ is the bias of the neuron. When the network is trained, the network parameters (the biases and weights) are tuned for best performance.\n",
        "\n",
        "Now what would happen if we tried to classify our reviews as either positive or negative with a logistic regression?\n",
        "\n",
        "The input variables would be the 256 integers in the review array. Let us assume a positive weight $w_i$ for variable i. Since the sigmoid function increases monotonically, when variable $i$ increases, the output of the network, which is the probability for the review to be positive, increases.\n",
        "\n",
        "But there is no reason for variable $i$ to be correlated in any way to the probability for the review to be positive!\n",
        "\n",
        "For example, variable $i$ could be 27 (corresponding to the word \"bad\"), 118 (\"good\"), or 1562 (\"awful\"). The review does not look more positive when the integer gets bigger.\n",
        "In other words, the actual value of the integer code for a given word does not carry any information by itself on the quality of the review. This value is arbitrary, and would be different with another encoding algorithm.\n",
        "\n",
        "Clearly, a logistic regression would not be of any use in classifying our reviews.\n",
        "\n",
        "Maybe the logistic regression is too simple, and a more complex dense network would help?\n",
        "\n",
        "Actually, that's not the case. Indeed, in a dense network with hidden layers, each of the neurons in the first hidden layer behaves as the single neuron of the logistic regression. So more complex dense networks suffer from the same problems as the simple logistic regression.\n",
        "\n",
        "\n",
        "## Simple sentiment analysis with embedding\n",
        "\n",
        "Embedding is a way to extract the meaning of a word. In the embedding process, each word (or more precisely, each integer corresponding to a word) is translated to a vector in N-dimensional space.\n",
        "\n",
        "That does sound complicated! but it's not.  \n",
        "\n",
        "To understand better, we're going to perform the embedding in two dimensions only. Each word is then going to be converted to a vector with two coordinates $(x,y)$, and these coordinates can be represented as a point in a plane.\n",
        "\n",
        "As you will see below, the text of a review will appear as an ensemble of points, and the points with similar meaning will be grouped together. Looking at the distribution of the points in 2D, the neural network will be able to predict whether the review is positive or negative.\n",
        "\n",
        "In practice, here is how to do that in keras. If anything is unclear in the steps below, you might want to look at my post about [deep learning for image recognition with keras](https://thedatafrog.com/deep-learning-keras/)."
      ]
    },
    {
      "cell_type": "code",
      "metadata": {
        "colab": {
          "base_uri": "https://localhost:8080/",
          "height": 345
        },
        "id": "sSWWjB8y9eYN",
        "outputId": "06e700f7-5c7c-4229-bfcc-fd86d5fb98a0"
      },
      "source": [
        "\n",
        "model = keras.Sequential()\n",
        "\n",
        "# the first layer is the embedding layer.\n",
        "# we indicate the number of possible words,\n",
        "# the dimension of the embedding space,\n",
        "# and the maximum size of the text.\n",
        "model.add(keras.layers.Embedding(len(vocabulary), 2, input_length=256))\n",
        "\n",
        "# the output of the embedding is multidimensional,\n",
        "# with shape (256, 2)\n",
        "# for each word, we obtain two values,\n",
        "# the x and y coordinates\n",
        "# we flatten this output to be able to\n",
        "# use it in a dense layer\n",
        "model.add(keras.layers.Flatten())\n",
        "\n",
        "# dropout regularization\n",
        "model.add(keras.layers.Dropout(rate=0.5))\n",
        "\n",
        "# small dense layer. It's role is to analyze\n",
        "# the distribution of points from embedding\n",
        "model.add(keras.layers.Dense(5))\n",
        "\n",
        "# final neuron, with sigmoid activation\n",
        "# for binary classification\n",
        "model.add(keras.layers.Dense(1, activation='sigmoid'))\n",
        "\n",
        "model.summary()\n"
      ],
      "execution_count": 6,
      "outputs": [
        {
          "output_type": "stream",
          "name": "stderr",
          "text": [
            "/usr/local/lib/python3.10/dist-packages/keras/src/layers/core/embedding.py:90: UserWarning: Argument `input_length` is deprecated. Just remove it.\n",
            "  warnings.warn(\n"
          ]
        },
        {
          "output_type": "display_data",
          "data": {
            "text/plain": [
              "\u001b[1mModel: \"sequential\"\u001b[0m\n"
            ],
            "text/html": [
              "<pre style=\"white-space:pre;overflow-x:auto;line-height:normal;font-family:Menlo,'DejaVu Sans Mono',consolas,'Courier New',monospace\"><span style=\"font-weight: bold\">Model: \"sequential\"</span>\n",
              "</pre>\n"
            ]
          },
          "metadata": {}
        },
        {
          "output_type": "display_data",
          "data": {
            "text/plain": [
              "┏━━━━━━━━━━━━━━━━━━━━━━━━━━━━━━━━━━━━━━┳━━━━━━━━━━━━━━━━━━━━━━━━━━━━━┳━━━━━━━━━━━━━━━━━┓\n",
              "┃\u001b[1m \u001b[0m\u001b[1mLayer (type)                        \u001b[0m\u001b[1m \u001b[0m┃\u001b[1m \u001b[0m\u001b[1mOutput Shape               \u001b[0m\u001b[1m \u001b[0m┃\u001b[1m \u001b[0m\u001b[1m        Param #\u001b[0m\u001b[1m \u001b[0m┃\n",
              "┡━━━━━━━━━━━━━━━━━━━━━━━━━━━━━━━━━━━━━━╇━━━━━━━━━━━━━━━━━━━━━━━━━━━━━╇━━━━━━━━━━━━━━━━━┩\n",
              "│ embedding (\u001b[38;5;33mEmbedding\u001b[0m)                │ ?                           │     \u001b[38;5;34m0\u001b[0m (unbuilt) │\n",
              "├──────────────────────────────────────┼─────────────────────────────┼─────────────────┤\n",
              "│ flatten (\u001b[38;5;33mFlatten\u001b[0m)                    │ ?                           │     \u001b[38;5;34m0\u001b[0m (unbuilt) │\n",
              "├──────────────────────────────────────┼─────────────────────────────┼─────────────────┤\n",
              "│ dropout (\u001b[38;5;33mDropout\u001b[0m)                    │ ?                           │     \u001b[38;5;34m0\u001b[0m (unbuilt) │\n",
              "├──────────────────────────────────────┼─────────────────────────────┼─────────────────┤\n",
              "│ dense (\u001b[38;5;33mDense\u001b[0m)                        │ ?                           │     \u001b[38;5;34m0\u001b[0m (unbuilt) │\n",
              "├──────────────────────────────────────┼─────────────────────────────┼─────────────────┤\n",
              "│ dense_1 (\u001b[38;5;33mDense\u001b[0m)                      │ ?                           │     \u001b[38;5;34m0\u001b[0m (unbuilt) │\n",
              "└──────────────────────────────────────┴─────────────────────────────┴─────────────────┘\n"
            ],
            "text/html": [
              "<pre style=\"white-space:pre;overflow-x:auto;line-height:normal;font-family:Menlo,'DejaVu Sans Mono',consolas,'Courier New',monospace\">┏━━━━━━━━━━━━━━━━━━━━━━━━━━━━━━━━━━━━━━┳━━━━━━━━━━━━━━━━━━━━━━━━━━━━━┳━━━━━━━━━━━━━━━━━┓\n",
              "┃<span style=\"font-weight: bold\"> Layer (type)                         </span>┃<span style=\"font-weight: bold\"> Output Shape                </span>┃<span style=\"font-weight: bold\">         Param # </span>┃\n",
              "┡━━━━━━━━━━━━━━━━━━━━━━━━━━━━━━━━━━━━━━╇━━━━━━━━━━━━━━━━━━━━━━━━━━━━━╇━━━━━━━━━━━━━━━━━┩\n",
              "│ embedding (<span style=\"color: #0087ff; text-decoration-color: #0087ff\">Embedding</span>)                │ ?                           │     <span style=\"color: #00af00; text-decoration-color: #00af00\">0</span> (unbuilt) │\n",
              "├──────────────────────────────────────┼─────────────────────────────┼─────────────────┤\n",
              "│ flatten (<span style=\"color: #0087ff; text-decoration-color: #0087ff\">Flatten</span>)                    │ ?                           │     <span style=\"color: #00af00; text-decoration-color: #00af00\">0</span> (unbuilt) │\n",
              "├──────────────────────────────────────┼─────────────────────────────┼─────────────────┤\n",
              "│ dropout (<span style=\"color: #0087ff; text-decoration-color: #0087ff\">Dropout</span>)                    │ ?                           │     <span style=\"color: #00af00; text-decoration-color: #00af00\">0</span> (unbuilt) │\n",
              "├──────────────────────────────────────┼─────────────────────────────┼─────────────────┤\n",
              "│ dense (<span style=\"color: #0087ff; text-decoration-color: #0087ff\">Dense</span>)                        │ ?                           │     <span style=\"color: #00af00; text-decoration-color: #00af00\">0</span> (unbuilt) │\n",
              "├──────────────────────────────────────┼─────────────────────────────┼─────────────────┤\n",
              "│ dense_1 (<span style=\"color: #0087ff; text-decoration-color: #0087ff\">Dense</span>)                      │ ?                           │     <span style=\"color: #00af00; text-decoration-color: #00af00\">0</span> (unbuilt) │\n",
              "└──────────────────────────────────────┴─────────────────────────────┴─────────────────┘\n",
              "</pre>\n"
            ]
          },
          "metadata": {}
        },
        {
          "output_type": "display_data",
          "data": {
            "text/plain": [
              "\u001b[1m Total params: \u001b[0m\u001b[38;5;34m0\u001b[0m (0.00 B)\n"
            ],
            "text/html": [
              "<pre style=\"white-space:pre;overflow-x:auto;line-height:normal;font-family:Menlo,'DejaVu Sans Mono',consolas,'Courier New',monospace\"><span style=\"font-weight: bold\"> Total params: </span><span style=\"color: #00af00; text-decoration-color: #00af00\">0</span> (0.00 B)\n",
              "</pre>\n"
            ]
          },
          "metadata": {}
        },
        {
          "output_type": "display_data",
          "data": {
            "text/plain": [
              "\u001b[1m Trainable params: \u001b[0m\u001b[38;5;34m0\u001b[0m (0.00 B)\n"
            ],
            "text/html": [
              "<pre style=\"white-space:pre;overflow-x:auto;line-height:normal;font-family:Menlo,'DejaVu Sans Mono',consolas,'Courier New',monospace\"><span style=\"font-weight: bold\"> Trainable params: </span><span style=\"color: #00af00; text-decoration-color: #00af00\">0</span> (0.00 B)\n",
              "</pre>\n"
            ]
          },
          "metadata": {}
        },
        {
          "output_type": "display_data",
          "data": {
            "text/plain": [
              "\u001b[1m Non-trainable params: \u001b[0m\u001b[38;5;34m0\u001b[0m (0.00 B)\n"
            ],
            "text/html": [
              "<pre style=\"white-space:pre;overflow-x:auto;line-height:normal;font-family:Menlo,'DejaVu Sans Mono',consolas,'Courier New',monospace\"><span style=\"font-weight: bold\"> Non-trainable params: </span><span style=\"color: #00af00; text-decoration-color: #00af00\">0</span> (0.00 B)\n",
              "</pre>\n"
            ]
          },
          "metadata": {}
        }
      ]
    },
    {
      "cell_type": "markdown",
      "metadata": {
        "id": "USswwSfLMqHu"
      },
      "source": [
        "As you can see, it is enough to add an embedding layer to our neural network to perform embedding. And it could be a bit surprising to see that we only have to provide three arguments to construct the embedding layer: the length of the vocabulary, the number of dimensions in the embedding space, and the number of words in the input text.\n",
        "\n",
        "In the summary printout just above, we see that the embedding layer represents 177176 parameters. At first, these parameters are random, and the embedding is just meaningless. During the training, these parameters are tuned and the network becomes more and more capable to extract the meaning of the words.\n",
        "\n",
        "Now that the model is ready, we compile it and we train it. There is no need for a GPU here, as the training will be quite fast even on a CPU."
      ]
    },
    {
      "cell_type": "code",
      "metadata": {
        "id": "MCJVQ9Lz9eYQ"
      },
      "source": [
        "model.compile(optimizer='adam',\n",
        "              loss='binary_crossentropy',\n",
        "              metrics=['accuracy'])\n"
      ],
      "execution_count": 7,
      "outputs": []
    },
    {
      "cell_type": "code",
      "metadata": {
        "colab": {
          "base_uri": "https://localhost:8080/"
        },
        "id": "Jk6s-DH79eYT",
        "outputId": "9dec7a81-b911-4665-a888-9c8062bbc41f"
      },
      "source": [
        "history = model.fit(train_data,\n",
        "                    train_labels,\n",
        "                    epochs=5,\n",
        "                    batch_size=100,\n",
        "                    validation_data=(test_data, test_labels),\n",
        "                    verbose=1)"
      ],
      "execution_count": 8,
      "outputs": [
        {
          "output_type": "stream",
          "name": "stdout",
          "text": [
            "Epoch 1/5\n",
            "\u001b[1m250/250\u001b[0m \u001b[32m━━━━━━━━━━━━━━━━━━━━\u001b[0m\u001b[37m\u001b[0m \u001b[1m4s\u001b[0m 5ms/step - accuracy: 0.5093 - loss: 0.6931 - val_accuracy: 0.5423 - val_loss: 0.6897\n",
            "Epoch 2/5\n",
            "\u001b[1m250/250\u001b[0m \u001b[32m━━━━━━━━━━━━━━━━━━━━\u001b[0m\u001b[37m\u001b[0m \u001b[1m1s\u001b[0m 4ms/step - accuracy: 0.6644 - loss: 0.6327 - val_accuracy: 0.8496 - val_loss: 0.3765\n",
            "Epoch 3/5\n",
            "\u001b[1m250/250\u001b[0m \u001b[32m━━━━━━━━━━━━━━━━━━━━\u001b[0m\u001b[37m\u001b[0m \u001b[1m1s\u001b[0m 3ms/step - accuracy: 0.8489 - loss: 0.3504 - val_accuracy: 0.8749 - val_loss: 0.3076\n",
            "Epoch 4/5\n",
            "\u001b[1m250/250\u001b[0m \u001b[32m━━━━━━━━━━━━━━━━━━━━\u001b[0m\u001b[37m\u001b[0m \u001b[1m1s\u001b[0m 4ms/step - accuracy: 0.8841 - loss: 0.2770 - val_accuracy: 0.8767 - val_loss: 0.2945\n",
            "Epoch 5/5\n",
            "\u001b[1m250/250\u001b[0m \u001b[32m━━━━━━━━━━━━━━━━━━━━\u001b[0m\u001b[37m\u001b[0m \u001b[1m1s\u001b[0m 4ms/step - accuracy: 0.9028 - loss: 0.2365 - val_accuracy: 0.8778 - val_loss: 0.2921\n"
          ]
        }
      ]
    },
    {
      "cell_type": "markdown",
      "metadata": {
        "id": "g0ztd1VUMqHu"
      },
      "source": [
        "We can now look at the evolution of the training and testing accuracies as a function of time, with this small function:"
      ]
    },
    {
      "cell_type": "code",
      "metadata": {
        "id": "7zKqOu73MqHv"
      },
      "source": [
        "import matplotlib.pyplot as plt\n",
        "def plot_accuracy(history, miny=None):\n",
        "  acc = history.history['accuracy']\n",
        "  test_acc = history.history['val_accuracy']\n",
        "  epochs = range(len(acc))\n",
        "  plt.plot(epochs, acc)\n",
        "  plt.plot(epochs, test_acc)\n",
        "  if miny:\n",
        "    plt.ylim(miny, 1.0)\n",
        "  plt.title('accuracy')\n",
        "  plt.xlabel('epoch')\n",
        "  plt.figure()"
      ],
      "execution_count": 9,
      "outputs": []
    },
    {
      "cell_type": "code",
      "metadata": {
        "colab": {
          "base_uri": "https://localhost:8080/",
          "height": 490
        },
        "id": "NuN6jDpv913n",
        "outputId": "9fe84011-da33-4afe-d3a9-f4ae945d7ee5"
      },
      "source": [
        "plot_accuracy(history)"
      ],
      "execution_count": 10,
      "outputs": [
        {
          "output_type": "display_data",
          "data": {
            "text/plain": [
              "<Figure size 640x480 with 1 Axes>"
            ],
            "image/png": "[encoded data removed]"
          },
          "metadata": {}
        },
        {
          "output_type": "display_data",
          "data": {
            "text/plain": [
              "<Figure size 640x480 with 0 Axes>"
            ]
          },
          "metadata": {}
        }
      ]
    },
    {
      "cell_type": "markdown",
      "metadata": {
        "id": "LciorejkMqHv"
      },
      "source": [
        "We are able to reach a classification accuracy over 85%. The training accuracy continuously increases while the training accuracy plateaus after the second epoch. This means that we [overfit](https://thedatafrog.com/overfitting-illustrated/). But in this post, that's none of our concern: we only want to understand  what is embedding.\n",
        "\n",
        "## Visualizing embedding\n",
        "\n",
        "To investigate embedding, we create a function that provides the output of the embedding layer for a given input:"
      ]
    },
    {
      "cell_type": "code",
      "metadata": {
        "id": "hEpjKFRD93fl"
      },
      "source": [
        "import tensorflow as tf\n",
        "\n",
        "def get_embed_out(input_data):\n",
        "  \"\"\"\n",
        "  Gets the output of the embedding layer for a given input.\n",
        "\n",
        "  Args:\n",
        "    input_data: The input data to the model.\n",
        "\n",
        "  Returns:\n",
        "    The output of the embedding layer.\n",
        "  \"\"\"\n",
        "  # Use the functional API to create a submodel\n",
        "  # This submodel takes the input and outputs the embedding layer's output\n",
        "  embed_model = tf.keras.Model(inputs=model.layers[0].input, outputs=model.layers[1].output)\n",
        "  # Reshape using tf.reshape\n",
        "  input_data = tf.reshape(input_data[0], [1, input_data[0].shape[0]]) # Reshape using tf.reshape to ensure compatibility with EagerTensors\n",
        "  # Pad the input data to the expected length of 256\n",
        "  input_data = keras.preprocessing.sequence.pad_sequences(input_data,\n",
        "                                                        value=vocabulary[\"<PAD>\"],\n",
        "                                                        padding='post',\n",
        "                                                        maxlen=256)\n",
        "  return embed_model.predict(input_data)  # Use predict to get the output\n"
      ],
      "execution_count": 29,
      "outputs": []
    },
    {
      "cell_type": "markdown",
      "metadata": {
        "id": "pBu8DrBgMqHx"
      },
      "source": [
        "Then, we use this function to get the distribution of points from the embedding of the first review in the validation sample:"
      ]
    },
    {
      "cell_type": "code",
      "metadata": {
        "colab": {
          "base_uri": "https://localhost:8080/"
        },
        "id": "LMWx-JkPMqHx",
        "outputId": "e0e086cc-ce91-4e2e-ca29-d993948bfb07"
      },
      "source": [
        "layer_output = get_embed_out([test_data[0]])\n",
        "print(type(layer_output), len(layer_output), layer_output[0].shape)"
      ],
      "execution_count": 30,
      "outputs": [
        {
          "output_type": "stream",
          "name": "stdout",
          "text": [
            "\u001b[1m1/1\u001b[0m \u001b[32m━━━━━━━━━━━━━━━━━━━━\u001b[0m\u001b[37m\u001b[0m \u001b[1m0s\u001b[0m 58ms/step\n",
            "<class 'numpy.ndarray'> 1 (512,)\n"
          ]
        }
      ]
    },
    {
      "cell_type": "markdown",
      "metadata": {
        "id": "-ft5jDn6MqHx"
      },
      "source": [
        "We see that layer_output is a list with a single element containing the array of embedded words. So let's get this array and plot it:"
      ]
    },
    {
      "cell_type": "code",
      "metadata": {
        "colab": {
          "base_uri": "https://localhost:8080/",
          "height": 504
        },
        "id": "CzbXHMIxMqHx",
        "outputId": "bf692969-9983-4c33-a4a4-23c4b332d0a3"
      },
      "source": [
        "# Get the embedded output\n",
        "layer_output = get_embed_out([test_data[0]])\n",
        "# Extract the words from the layer output (it's a list with one element)\n",
        "words = layer_output[0]\n",
        "\n",
        "# Reshape words to have two dimensions\n",
        "words = words.reshape(-1, 2)  # Reshape to have 2 columns, inferring rows\n",
        "\n",
        "# Access the first and second columns\n",
        "x_coords = words[:, 0]  # Access all rows and the first column\n",
        "y_coords = words[:, 1]  # Access all rows and the second column\n",
        "\n",
        "# Plot the scatter plot\n",
        "plt.scatter(x_coords, y_coords)"
      ],
      "execution_count": 31,
      "outputs": [
        {
          "output_type": "stream",
          "name": "stderr",
          "text": [
            "WARNING:tensorflow:5 out of the last 5 calls to <function TensorFlowTrainer.make_predict_function.<locals>.one_step_on_data_distributed at 0x79c17417acb0> triggered tf.function retracing. Tracing is expensive and the excessive number of tracings could be due to (1) creating @tf.function repeatedly in a loop, (2) passing tensors with different shapes, (3) passing Python objects instead of tensors. For (1), please define your @tf.function outside of the loop. For (2), @tf.function has reduce_retracing=True option that can avoid unnecessary retracing. For (3), please refer to https://www.tensorflow.org/guide/function#controlling_retracing and https://www.tensorflow.org/api_docs/python/tf/function for  more details.\n"
          ]
        },
        {
          "output_type": "stream",
          "name": "stdout",
          "text": [
            "\u001b[1m1/1\u001b[0m \u001b[32m━━━━━━━━━━━━━━━━━━━━\u001b[0m\u001b[37m\u001b[0m \u001b[1m0s\u001b[0m 60ms/step\n"
          ]
        },
        {
          "output_type": "execute_result",
          "data": {
            "text/plain": [
              "<matplotlib.collections.PathCollection at 0x79c173ed2ad0>"
            ]
          },
          "metadata": {},
          "execution_count": 31
        },
        {
          "output_type": "display_data",
          "data": {
            "text/plain": [
              "<Figure size 640x480 with 1 Axes>"
            ],
            "image/png": "[encoded data removed]"
          },
          "metadata": {}
        }
      ]
    },
    {
      "cell_type": "markdown",
      "metadata": {
        "id": "mX1cnAQaMqHy"
      },
      "source": [
        "We see that the distribution of embedded words for this review has an elongated shape. But what does it mean?\n",
        "\n",
        "Let's create our own review, encode it, and embed it to see what happens:"
      ]
    },
    {
      "cell_type": "code",
      "metadata": {
        "colab": {
          "base_uri": "https://localhost:8080/"
        },
        "id": "2R-yyEhQMqHy",
        "outputId": "ae0f4507-b02a-41e1-8218-e47ffdac1687"
      },
      "source": [
        "review = ['great', 'brilliant','crap','bad',\n",
        "          'fantastic', 'movie', 'seagal']\n",
        "enc_review = tf.constant([vocabulary[word] for word in review])\n",
        "enc_review"
      ],
      "execution_count": 32,
      "outputs": [
        {
          "output_type": "execute_result",
          "data": {
            "text/plain": [
              "<tf.Tensor: shape=(7,), dtype=int32, numpy=array([  87,  530,  595,   78,  777,   20, 3272], dtype=int32)>"
            ]
          },
          "metadata": {},
          "execution_count": 32
        }
      ]
    },
    {
      "cell_type": "code",
      "metadata": {
        "id": "TYHfNB_oMqHy",
        "outputId": "c2692c26-fc0f-41a6-885d-221d13c61834",
        "colab": {
          "base_uri": "https://localhost:8080/"
        }
      },
      "source": [
        "words = get_embed_out([enc_review])[0]"
      ],
      "execution_count": 33,
      "outputs": [
        {
          "output_type": "stream",
          "name": "stderr",
          "text": [
            "WARNING:tensorflow:6 out of the last 6 calls to <function TensorFlowTrainer.make_predict_function.<locals>.one_step_on_data_distributed at 0x79c1744e4820> triggered tf.function retracing. Tracing is expensive and the excessive number of tracings could be due to (1) creating @tf.function repeatedly in a loop, (2) passing tensors with different shapes, (3) passing Python objects instead of tensors. For (1), please define your @tf.function outside of the loop. For (2), @tf.function has reduce_retracing=True option that can avoid unnecessary retracing. For (3), please refer to https://www.tensorflow.org/guide/function#controlling_retracing and https://www.tensorflow.org/api_docs/python/tf/function for  more details.\n"
          ]
        },
        {
          "output_type": "stream",
          "name": "stdout",
          "text": [
            "\u001b[1m1/1\u001b[0m \u001b[32m━━━━━━━━━━━━━━━━━━━━\u001b[0m\u001b[37m\u001b[0m \u001b[1m0s\u001b[0m 59ms/step\n"
          ]
        }
      ]
    },
    {
      "cell_type": "code",
      "metadata": {
        "colab": {
          "base_uri": "https://localhost:8080/",
          "height": 430
        },
        "id": "ZbPAXYPOMqHz",
        "outputId": "7af0b205-f0c1-4e51-fe51-7c625b60e898"
      },
      "source": [
        "# Ensure words have the correct shape for plotting\n",
        "words = words.reshape(-1, 1)  # Reshape to have 1 column, if it is 1-dimensional\n",
        "\n",
        "# Use words[:, 0] for both x and y if words are 1-dimensional\n",
        "plt.scatter(words[:, 0], words[:, 0])\n",
        "\n",
        "for i, txt in enumerate(review):\n",
        "    # Use words[i, 0] if words are 1-dimensional\n",
        "    plt.annotate(txt, (words[i, 0], words[i, 0]))"
      ],
      "execution_count": 35,
      "outputs": [
        {
          "output_type": "display_data",
          "data": {
            "text/plain": [
              "<Figure size 640x480 with 1 Axes>"
            ],
            "image/png": "[encoded data removed]"
          },
          "metadata": {}
        }
      ]
    },
    {
      "cell_type": "markdown",
      "metadata": {
        "id": "hTHXKYH1MqHz"
      },
      "source": [
        "We see that words with a similar meaning are indeed grouped together. There is one group with \"great\", \"brilliant\", \"fantastic\". This area of the plane contains the words that carry a positive meaning. On the other side, we have \"bad\", \"crap\", and ... \"seagal\". It seems that hiring Steven Seagal for your movie guarantees bad reviews on IMDB!\n",
        "\n",
        "The word \"movie\", finally, does not carry much meaning about the quality of the review, and ends up in the middle.\n",
        "\n",
        "**Exercise**: I found a bad actor, that's easy, especially with Steven around. Can you find a good one?  \n",
        "\n",
        "Now let's plot the distribution of points for a few reviews with the following function:"
      ]
    },
    {
      "cell_type": "code",
      "metadata": {
        "id": "nzIX7SPpMqHz"
      },
      "source": [
        "import math\n",
        "\n",
        "def plot_review(i):\n",
        "    # plot the distribution of points\n",
        "   enc_words = test_data[i]\n",
        "   emb_words = get_embed_out([enc_words])[0]\n",
        "\n",
        "    # Check if emb_words is 1-dimensional and reshape if necessary\n",
        "   if emb_words.ndim == 1:\n",
        "            emb_words = emb_words.reshape(-1, 1)\n",
        "\n",
        "   plt.figure(figsize=(8,8))\n",
        "\n",
        "    # If emb_words is still 1-dimensional after reshaping,\n",
        "    # use the same data for both x and y coordinates\n",
        "   if emb_words.shape[1] == 1:  # Check the number of columns\n",
        "        plt.scatter(emb_words[:, 0], emb_words[:, 0])  # Use the first column for both x and y\n",
        "   else:  # If emb_words is 2-dimensional, use the columns as intended\n",
        "        plt.scatter(emb_words[:,0], emb_words[:,1])\n",
        "\n",
        "    # ... (rest of your function code remains the same) ...\n",
        "\n",
        "    # use the label as title: 1 is positive,\n",
        "    # 0 is negative\n",
        "   plt.title(test_labels[i])\n",
        "    # for words that are far enough from (0,0),\n",
        "   # print the word\n",
        "   for i, (enc_word, emb_word) in enumerate(zip(enc_words, emb_words)):\n",
        "        word = index[enc_word]\n",
        "\n",
        "        # Access the coordinates based on the dimensionality of emb_word\n",
        "        if emb_word.ndim == 1:  # 1-dimensional\n",
        "            x, y = emb_word[0], emb_word[0]\n",
        "        else:  # 2-dimensional\n",
        "            x, y = emb_word[0], emb_word[1]\n",
        "\n",
        "        if math.sqrt(x**2 + y**2)>0.2:\n",
        "            plt.annotate(word, (x, y))\n",
        "    # fix the range in x and y to be able to compare\n",
        "    # the distributions of different reviews\n",
        "   axes = plt.gca()\n",
        "   axes.set_xlim([-0.5,0.5])\n",
        "   axes.set_ylim([-0.5, 0.5])\n",
        "   axes.set_aspect('equal', adjustable='box')"
      ],
      "execution_count": 42,
      "outputs": []
    },
    {
      "cell_type": "code",
      "metadata": {
        "colab": {
          "base_uri": "https://localhost:8080/",
          "height": 717
        },
        "id": "uQ9ZcY1rMqHz",
        "outputId": "b5018711-8760-4e84-99a3-5e5ca3dfe72e"
      },
      "source": [
        "plot_review(15)"
      ],
      "execution_count": 43,
      "outputs": [
        {
          "output_type": "stream",
          "name": "stdout",
          "text": [
            "\u001b[1m1/1\u001b[0m \u001b[32m━━━━━━━━━━━━━━━━━━━━\u001b[0m\u001b[37m\u001b[0m \u001b[1m0s\u001b[0m 63ms/step\n"
          ]
        },
        {
          "output_type": "display_data",
          "data": {
            "text/plain": [
              "<Figure size 800x800 with 1 Axes>"
            ],
            "image/png": "[encoded data removed]"
          },
          "metadata": {}
        }
      ]
    },
    {
      "cell_type": "code",
      "metadata": {
        "colab": {
          "base_uri": "https://localhost:8080/",
          "height": 717
        },
        "id": "JlT82SpjMqH0",
        "outputId": "9a774a68-9df6-4d7a-b2f1-1ce1274dc064"
      },
      "source": [
        "plot_review(17)"
      ],
      "execution_count": 44,
      "outputs": [
        {
          "output_type": "stream",
          "name": "stdout",
          "text": [
            "\u001b[1m1/1\u001b[0m \u001b[32m━━━━━━━━━━━━━━━━━━━━\u001b[0m\u001b[37m\u001b[0m \u001b[1m0s\u001b[0m 56ms/step\n"
          ]
        },
        {
          "output_type": "display_data",
          "data": {
            "text/plain": [
              "<Figure size 800x800 with 1 Axes>"
            ],
            "image/png": "[encoded data removed]"
          },
          "metadata": {}
        }
      ]
    },
    {
      "cell_type": "markdown",
      "metadata": {
        "id": "N30CLDL8MqH0"
      },
      "source": [
        "You can plot a few more reviews if you wish, by changing the review index in the commands above.\n",
        "\n",
        "We see that positive reviews tend to have words with a meaning similar to \"great\", \"brilliant\", and \"fantastic\", while negative reviews tend to have words with a meaning similar to \"seagal\"."
      ]
    },
    {
      "cell_type": "markdown",
      "metadata": {
        "id": "wwM0JX_WMqH1"
      },
      "source": [
        "The goal of the dense layer in our network is to summarize the information in the whole distribution of points for each review.\n",
        "\n",
        "Now let's [go back](https://thedatafrog.com/word-embedding-sentiment-analysis/#wrapup) and wrap up with an interesting discussion about Steven Seagal and embedding."
      ]
    },
    {
      "cell_type": "code",
      "source": [
        "import numpy as np\n",
        "from sklearn.metrics.pairwise import cosine_similarity\n",
        "import tensorflow as tf # Import TensorFlow\n",
        "from tensorflow import keras # Import Keras from TensorFlow\n",
        "\n",
        "def find_closest_words(embedding_layer, vocabulary, target_words, top_n=10):\n",
        "    \"\"\"\n",
        "    Finds words closest to the given target words in the embedding space.\n",
        "\n",
        "    Args:\n",
        "        embedding_layer: The trained Keras embedding layer.\n",
        "        vocabulary: A dictionary mapping words to indices.\n",
        "        target_words: A list of target words to search around.\n",
        "        top_n: Number of closest words to retrieve.\n",
        "\n",
        "    Returns:\n",
        "        A dictionary with target words as keys and their closest words as values.\n",
        "    \"\"\"\n",
        "    # Build the model to initialize the embedding layer's weights\n",
        "    # This is important because the weights are not initialized until the layer is used.\n",
        "    embedding_layer.build((None,))\n",
        "\n",
        "    # Now you can get the weights\n",
        "    embedding_weights = embedding_layer.get_weights()[0]  # Shape: (vocab_size, embedding_dim)\n",
        "\n",
        "    # Initialize results\n",
        "    results = {}\n",
        "\n",
        "    for word in target_words:\n",
        "        if word not in vocabulary:\n",
        "            print(f\"'{word}' not in vocabulary.\")\n",
        "            continue\n",
        "\n",
        "        # Get the embedding for the target word\n",
        "        word_idx = vocabulary[word]\n",
        "        word_embedding = embedding_weights[word_idx].reshape(1, -1)\n",
        "\n",
        "        # Compute cosine similarity with all embeddings\n",
        "        similarities = cosine_similarity(word_embedding, embedding_weights)[0]\n",
        "\n",
        "        # Find the indices of the top N most similar words\n",
        "        closest_indices = np.argsort(similarities)[-top_n - 1:-1][::-1]  # Exclude the word itself\n",
        "\n",
        "        # Map indices to words\n",
        "        closest_words = [key for key, idx in vocabulary.items() if idx in closest_indices]\n",
        "        results[word] = closest_words\n",
        "\n",
        "    return results\n",
        "\n",
        "\n",
        "model = keras.Sequential([\n",
        "    keras.layers.Embedding(10, 2)  # Example embedding layer with input_dim=10, output_dim=2\n",
        "])\n",
        "embedding_layer = model.layers[0]  # First layer is the embedding layer\n",
        "vocabulary = {\"great\": 0, \"brilliant\": 1, \"fantastic\": 2, \"leonardo\": 5, \"streep\": 6, \"movie\": 7, \"amazing\": 8, \"seagal\": 9, \"crap\": 10}  # Example vocabulary\n",
        "\n",
        "target_words = [\"great\", \"brilliant\", \"fantastic\", \"amazing\"]\n",
        "\n",
        "# Find closest words\n",
        "closest_words = find_closest_words(embedding_layer, vocabulary, target_words, top_n=10)\n",
        "\n",
        "# Print the results\n",
        "for word, neighbors in closest_words.items():\n",
        "    print(f\"Closest words to '{word}': {neighbors}\")"
      ],
      "metadata": {
        "id": "viTWr6lyOyNh",
        "outputId": "47235427-f86c-45c4-b982-0270e7d44bc2",
        "colab": {
          "base_uri": "https://localhost:8080/"
        }
      },
      "execution_count": 10,
      "outputs": [
        {
          "output_type": "stream",
          "name": "stdout",
          "text": [
            "Closest words to 'great': ['brilliant', 'fantastic', 'leonardo', 'streep', 'movie', 'amazing', 'seagal']\n",
            "Closest words to 'brilliant': ['great', 'fantastic', 'leonardo', 'streep', 'movie', 'amazing', 'seagal']\n",
            "Closest words to 'fantastic': ['great', 'brilliant', 'leonardo', 'streep', 'movie', 'amazing', 'seagal']\n",
            "Closest words to 'amazing': ['great', 'brilliant', 'fantastic', 'leonardo', 'streep', 'movie', 'seagal']\n"
          ]
        }
      ]
    }
  ]
}